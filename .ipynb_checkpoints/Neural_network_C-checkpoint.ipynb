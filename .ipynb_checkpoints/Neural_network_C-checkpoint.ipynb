{
 "cells": [
  {
   "cell_type": "code",
   "execution_count": 1,
   "id": "9e4fb138-20af-4060-99d5-abff16f1ee1f",
   "metadata": {},
   "outputs": [],
   "source": [
    "import numpy as np\n",
    "import pandas as pd\n",
    "from numpy import loadtxt\n",
    "from keras.models import Sequential\n",
    "from keras.layers import Dense\n",
    "from tqdm import tqdm\n",
    "import tensorflow as tf"
   ]
  },
  {
   "cell_type": "code",
   "execution_count": 2,
   "id": "55e16294-cc40-4375-93ce-52c95352c383",
   "metadata": {},
   "outputs": [],
   "source": [
    "x_train=pd.read_csv('China_save/x_train.csv')\n",
    "y_train=pd.read_csv('China_save/y_train.csv')"
   ]
  },
  {
   "cell_type": "code",
   "execution_count": 3,
   "id": "67776a75-63a4-49fb-af42-8872851c441d",
   "metadata": {},
   "outputs": [],
   "source": [
    "x_train=x_train.drop(['Unnamed: 0'],axis=1)\n",
    "y_train=y_train.drop(['Unnamed: 0'],axis=1)"
   ]
  },
  {
   "cell_type": "markdown",
   "id": "be4223ac-856c-4583-855c-b0fb28caa82f",
   "metadata": {},
   "source": [
    "# Test a few architectures"
   ]
  },
  {
   "cell_type": "code",
   "execution_count": 4,
   "id": "37cc49db-ba86-46e7-8180-1ad1ba703843",
   "metadata": {},
   "outputs": [],
   "source": [
    "tf.keras.backend.set_floatx('float64')\n",
    "def build_model1():\n",
    "    #15/8/2\n",
    "    # define the keras model\n",
    "    model = Sequential()\n",
    "    model.add(Dense(8, input_dim=15, activation='relu'))\n",
    "    model.add(Dense(2, activation='relu'))\n",
    "    # compile the keras model\n",
    "    model.compile(loss='binary_crossentropy', optimizer='adam', metrics=['accuracy'])\n",
    "    return model\n",
    "\n",
    "def train_models(build_model, num_ite=500):\n",
    "    models=[]\n",
    "    for i in tqdm(range(num_ite)):\n",
    "        model=build_model()\n",
    "        his=model.fit(x_train, y_train, epochs=150, batch_size=5, verbose=0)\n",
    "        pre=model.predict(x_train)\n",
    "        if np.all(pre > 0) and np.all(pre < 1):\n",
    "#             print(pre)\n",
    "            models.append(model)\n",
    "#         if hishis.history['loss'][-1] < 1:\n",
    "#             print('Loss:',hishis.history['loss'][-1])\n",
    "#             models.append(model)\n",
    "    return models\n",
    "\n",
    "def models_predict(models, x):\n",
    "    predictions=np.zeros((len(x),2))\n",
    "    for model in models:\n",
    "#         pre = model.predict(x)\n",
    "        predictions += model.predict(x)\n",
    "    return predictions/len(models)\n",
    "\n",
    "def train_model(build_model):\n",
    "    model=build_model()\n",
    "    his=model.fit(x_train, y_train, epochs=150, batch_size=5, verbose=0)\n",
    "    print('Loss:',hishis.history['loss'][-1])\n",
    "    return model\n",
    "\n",
    "def build_model2():\n",
    "    # 15/10/6/2\n",
    "    # define the keras model\n",
    "    model = Sequential()\n",
    "    model.add(Dense(10, input_dim=15, activation='relu'))\n",
    "    model.add(Dense(6, activation='relu'))\n",
    "    model.add(Dense(2, activation='relu'))\n",
    "    # compile the keras model\n",
    "    model.compile(loss='binary_crossentropy', optimizer='adam', metrics=['accuracy'])\n",
    "    return model\n",
    "\n",
    "def build_model3():\n",
    "    # 15/12/8/4/2\n",
    "    # define the keras model\n",
    "    model = Sequential()\n",
    "    model.add(Dense(12, input_dim=15, activation='relu'))\n",
    "    model.add(Dense(8, activation='relu'))\n",
    "    model.add(Dense(4, activation='relu'))\n",
    "    model.add(Dense(2, activation='relu'))\n",
    "    # compile the keras model\n",
    "    model.compile(loss='binary_crossentropy', optimizer='adam', metrics=['accuracy'])\n",
    "    return model\n",
    "\n",
    "def build_model4():\n",
    "    # 15/12/10/6/4/2\n",
    "    # define the keras model\n",
    "    model = Sequential()\n",
    "    model.add(Dense(12, input_dim=15, activation='relu'))\n",
    "    model.add(Dense(10, activation='relu'))\n",
    "    model.add(Dense(6, activation='relu'))\n",
    "    model.add(Dense(4, activation='relu'))\n",
    "    model.add(Dense(2, activation='relu'))\n",
    "    # compile the keras model\n",
    "    model.compile(loss='binary_crossentropy', optimizer='adam', metrics=['accuracy'])\n",
    "    return model"
   ]
  },
  {
   "cell_type": "code",
   "execution_count": 5,
   "id": "c058ec94-a9fe-4c14-991c-8a8f51375cba",
   "metadata": {},
   "outputs": [
    {
     "name": "stderr",
     "output_type": "stream",
     "text": [
      "100%|████████████████████████████████████████████████████████████████████████████████| 100/100 [10:34<00:00,  6.35s/it]\n",
      "100%|████████████████████████████████████████████████████████████████████████████████| 100/100 [13:17<00:00,  7.97s/it]\n",
      "100%|████████████████████████████████████████████████████████████████████████████████| 100/100 [12:26<00:00,  7.46s/it]\n"
     ]
    }
   ],
   "source": [
    "models1=train_models(build_model1)\n",
    "models2=train_models(build_model2)\n",
    "models3=train_models(build_model3)"
   ]
  },
  {
   "cell_type": "code",
   "execution_count": 6,
   "id": "5e5b8b0d-f0a2-4a23-b627-278a679c0a69",
   "metadata": {},
   "outputs": [
    {
     "name": "stderr",
     "output_type": "stream",
     "text": [
      "100%|████████████████████████████████████████████████████████████████████████████████| 100/100 [12:39<00:00,  7.60s/it]\n"
     ]
    }
   ],
   "source": [
    "models4=train_models(build_model4)"
   ]
  },
  {
   "cell_type": "code",
   "execution_count": 7,
   "id": "7625a02d-eb98-4dbf-8360-666f7bd2abec",
   "metadata": {},
   "outputs": [
    {
     "data": {
      "text/plain": [
       "(2, 0, 0, 1)"
      ]
     },
     "execution_count": 7,
     "metadata": {},
     "output_type": "execute_result"
    }
   ],
   "source": [
    "print(len(models1),len(models2),len(models3),len(models4))"
   ]
  },
  {
   "cell_type": "markdown",
   "id": "c9efffd3-bd22-4d1f-aaf9-344c003c1c83",
   "metadata": {},
   "source": [
    "* After running 1000 times for each model, the number of models saved is (11, 3, 2, 8)."
   ]
  },
  {
   "cell_type": "code",
   "execution_count": 8,
   "id": "8df8caaa-ae01-40f5-bb1b-02f1f4ceb6a7",
   "metadata": {},
   "outputs": [
    {
     "name": "stderr",
     "output_type": "stream",
     "text": [
      "<ipython-input-4-0eb98b0e7396>:31: RuntimeWarning: invalid value encountered in true_divide\n",
      "  return predictions/len(models)\n"
     ]
    }
   ],
   "source": [
    "pre1=models_predict(models1,x_train)\n",
    "pre2=models_predict(models2,x_train)\n",
    "pre3=models_predict(models3,x_train)"
   ]
  },
  {
   "cell_type": "code",
   "execution_count": 9,
   "id": "bd28ea37-1d61-419e-8e72-91f1cbf8043e",
   "metadata": {},
   "outputs": [],
   "source": [
    "pre4=models_predict(models4,x_train)"
   ]
  },
  {
   "cell_type": "code",
   "execution_count": 10,
   "id": "567a03d7-aacf-4f91-ab7e-5b1a55a4b9d0",
   "metadata": {},
   "outputs": [],
   "source": [
    "np.save('China_save/y_prediction1.npy',pre1)\n",
    "np.save('China_save/y_prediction2.npy',pre2)\n",
    "np.save('China_save/y_prediction3.npy',pre3)"
   ]
  },
  {
   "cell_type": "code",
   "execution_count": 11,
   "id": "57417e38-e1e1-44b7-9df6-9283d49af57d",
   "metadata": {},
   "outputs": [],
   "source": [
    "np.save('China_save/y_prediction4.npy',pre4)"
   ]
  },
  {
   "cell_type": "markdown",
   "id": "c6bc5117-380b-4599-846a-328d62f4afcc",
   "metadata": {},
   "source": [
    "# Find the average policy during each peak considered"
   ]
  },
  {
   "cell_type": "code",
   "execution_count": 12,
   "id": "389e8263-0b54-4011-b258-0436506768e4",
   "metadata": {},
   "outputs": [],
   "source": [
    "split=[146,146+88,146+88+164]\n",
    "x_train1=x_train[:split[0]]\n",
    "x_train2=x_train[split[0]:split[1]]\n",
    "# x_train3=x_train[split[1]:split[2]]\n",
    "x_train3=x_train[split[1]:]"
   ]
  },
  {
   "cell_type": "code",
   "execution_count": 13,
   "id": "9724b278-ca8c-440c-9721-f2e0429ee7d1",
   "metadata": {},
   "outputs": [],
   "source": [
    "x_mean1=x_train1.mean()\n",
    "x_mean2=x_train2.mean()\n",
    "x_mean3=x_train3.mean()\n",
    "# x_mean4=x_train4.mean()"
   ]
  },
  {
   "cell_type": "code",
   "execution_count": 14,
   "id": "5a5b479e-3521-42d4-9ccd-d1dcec3bcaf5",
   "metadata": {},
   "outputs": [],
   "source": [
    "x_mean=pd.DataFrame({'x_mean1':x_mean1,'x_mean2':x_mean2,'x_mean3':x_mean3})"
   ]
  },
  {
   "cell_type": "code",
   "execution_count": 15,
   "id": "9f8d96bc-e337-4585-a604-9488d98a9fca",
   "metadata": {},
   "outputs": [],
   "source": [
    "policy_name=['testing_policy', 'contact_tracing', 'vaccination_policy',\n",
    "       'debt_relief', 'facial_coverings', 'income_support',\n",
    "       'restrictions_internal_movements', 'international_travel_controls',\n",
    "       'public_information_campaigns', 'cancel_public_events',\n",
    "       'restriction_gatherings', 'close_public_transport', 'school_closures',\n",
    "       'stay_home_requirements', 'workplace_closures']"
   ]
  },
  {
   "cell_type": "code",
   "execution_count": 16,
   "id": "61f44de9-1243-47cc-bae5-bdf02420c353",
   "metadata": {},
   "outputs": [],
   "source": [
    "x_mean.index=policy_name"
   ]
  },
  {
   "cell_type": "code",
   "execution_count": 17,
   "id": "b56d8102-7e95-4ab3-b538-bf6fa91ea0f4",
   "metadata": {},
   "outputs": [],
   "source": [
    "x_mean.to_csv('China_save/x_mean.csv')"
   ]
  },
  {
   "cell_type": "markdown",
   "id": "d606281b-264f-4791-84c2-90f015685785",
   "metadata": {},
   "source": [
    "Generate more inputs for prediction"
   ]
  },
  {
   "cell_type": "code",
   "execution_count": 18,
   "id": "0d19b4ea-d4af-4b0a-81ff-4efea97c1b8c",
   "metadata": {},
   "outputs": [],
   "source": [
    "def more_inputs(x_mean,num=1):\n",
    "    inputs=[]\n",
    "    for i in range(len(x_mean)):\n",
    "        x_p=x_mean.copy()\n",
    "        x_p[i] = num\n",
    "        inputs.append(x_p)\n",
    "    return inputs"
   ]
  },
  {
   "cell_type": "code",
   "execution_count": 19,
   "id": "f167e6ce-534b-40ec-af67-51954899f280",
   "metadata": {},
   "outputs": [],
   "source": [
    "x_test1=more_inputs(x_mean1)\n",
    "x_test2=more_inputs(x_mean2)\n",
    "x_test3=more_inputs(x_mean3)\n",
    "# x_test4=more_inputs(x_mean4)"
   ]
  },
  {
   "cell_type": "code",
   "execution_count": 20,
   "id": "1c0769e5-ab8c-4e71-8369-b86c2d52836a",
   "metadata": {},
   "outputs": [],
   "source": [
    "x_test1=pd.DataFrame(np.array(x_test1))\n",
    "x_test2=pd.DataFrame(np.array(x_test2))\n",
    "x_test3=pd.DataFrame(np.array(x_test3))\n",
    "# x_test4=pd.DataFrame(np.array(x_test4))"
   ]
  },
  {
   "cell_type": "markdown",
   "id": "bf696b02-447f-4d5b-9375-bd12ccfd2b02",
   "metadata": {},
   "source": [
    "Generate inputs with policy 0"
   ]
  },
  {
   "cell_type": "code",
   "execution_count": 21,
   "id": "4830e00b-717a-423b-b641-b67e08b35234",
   "metadata": {},
   "outputs": [],
   "source": [
    "xx_test1=more_inputs(x_mean1,num=0)\n",
    "xx_test2=more_inputs(x_mean2,num=0)\n",
    "xx_test3=more_inputs(x_mean3,num=0)\n",
    "# xx_test4=more_inputs(x_mean4,num=0)\n",
    "\n",
    "xx_test1=pd.DataFrame(np.array(xx_test1))\n",
    "xx_test2=pd.DataFrame(np.array(xx_test2))\n",
    "xx_test3=pd.DataFrame(np.array(xx_test3))\n",
    "# xx_test4=pd.DataFrame(np.array(xx_test4))"
   ]
  },
  {
   "cell_type": "markdown",
   "id": "3096c364-9ac6-4405-8a01-b5c2fab623df",
   "metadata": {},
   "source": [
    "Predict the outcome after changing the policies."
   ]
  },
  {
   "cell_type": "code",
   "execution_count": 22,
   "id": "94759321-7e68-4751-93d2-bcc257d6b286",
   "metadata": {},
   "outputs": [
    {
     "name": "stderr",
     "output_type": "stream",
     "text": [
      "<ipython-input-4-0eb98b0e7396>:31: RuntimeWarning: invalid value encountered in true_divide\n",
      "  return predictions/len(models)\n"
     ]
    }
   ],
   "source": [
    "predict1_1=models_predict(models1,x_test1)\n",
    "predict1_2=models_predict(models1,x_test2)\n",
    "predict1_3=models_predict(models1,x_test3)\n",
    "# predict1_4=models_predict(models1,x_test4)\n",
    "\n",
    "predict2_1=models_predict(models2,x_test1)\n",
    "predict2_2=models_predict(models2,x_test2)\n",
    "predict2_3=models_predict(models2,x_test3)\n",
    "# predict2_4=models_predict(models2,x_test4)\n",
    "\n",
    "predict3_1=models_predict(models3,x_test1)\n",
    "predict3_2=models_predict(models3,x_test2)\n",
    "predict3_3=models_predict(models3,x_test3)\n",
    "# predict3_4=models_predict(models3,x_test4)"
   ]
  },
  {
   "cell_type": "code",
   "execution_count": 23,
   "id": "b5506120-38ab-45a1-9197-0cffa6297e90",
   "metadata": {},
   "outputs": [],
   "source": [
    "predict4_1=models_predict(models4,x_test1)\n",
    "predict4_2=models_predict(models4,x_test2)\n",
    "predict4_3=models_predict(models4,x_test3)\n",
    "# predict4_4=models_predict(models4,x_test4)"
   ]
  },
  {
   "cell_type": "code",
   "execution_count": 24,
   "id": "1f1346ad-2383-49ad-9996-b97f6d55766e",
   "metadata": {},
   "outputs": [],
   "source": [
    "np.save('China_save/predict1_1.npy',predict1_1)\n",
    "np.save('China_save/predict1_2.npy',predict1_2)\n",
    "np.save('China_save/predict1_3.npy',predict1_3)\n",
    "# np.save('China_save/predict1_4.npy',predict1_4)\n",
    "\n",
    "np.save('China_save/predict2_1.npy',predict2_1)\n",
    "np.save('China_save/predict2_2.npy',predict2_2)\n",
    "np.save('China_save/predict2_3.npy',predict2_3)\n",
    "# np.save('China_save/predict2_4.npy',predict2_4)\n",
    "\n",
    "np.save('China_save/predict3_1.npy',predict3_1)\n",
    "np.save('China_save/predict3_2.npy',predict3_2)\n",
    "np.save('China_save/predict3_3.npy',predict3_3)\n",
    "# np.save('China_save/predict3_4.npy',predict3_4)"
   ]
  },
  {
   "cell_type": "code",
   "execution_count": 25,
   "id": "d14a205b-a2ee-4bf9-8154-ff0027615ed5",
   "metadata": {},
   "outputs": [],
   "source": [
    "np.save('China_save/predict4_1.npy',predict4_1)\n",
    "np.save('China_save/predict4_2.npy',predict4_2)\n",
    "np.save('China_save/predict4_3.npy',predict4_3)\n",
    "# np.save('China_save/predict4_4.npy',predict4_4)"
   ]
  },
  {
   "cell_type": "code",
   "execution_count": 26,
   "id": "a7ab796e-bf89-4d17-8166-a3f8c816b973",
   "metadata": {},
   "outputs": [
    {
     "name": "stderr",
     "output_type": "stream",
     "text": [
      "<ipython-input-4-0eb98b0e7396>:31: RuntimeWarning: invalid value encountered in true_divide\n",
      "  return predictions/len(models)\n"
     ]
    }
   ],
   "source": [
    "predict_low1_1=models_predict(models1,xx_test1)\n",
    "predict_low1_2=models_predict(models1,xx_test2)\n",
    "predict_low1_3=models_predict(models1,xx_test3)\n",
    "# predict_low1_4=models_predict(models1,xx_test4)\n",
    "\n",
    "predict_low2_1=models_predict(models2,xx_test1)\n",
    "predict_low2_2=models_predict(models2,xx_test2)\n",
    "predict_low2_3=models_predict(models2,xx_test3)\n",
    "# predict_low2_4=models_predict(models2,xx_test4)\n",
    "\n",
    "predict_low3_1=models_predict(models3,xx_test1)\n",
    "predict_low3_2=models_predict(models3,xx_test2)\n",
    "predict_low3_3=models_predict(models3,xx_test3)\n",
    "# predict_low3_4=models_predict(models3,xx_test4)\n",
    "\n",
    "predict_low4_1=models_predict(models4,xx_test1)\n",
    "predict_low4_2=models_predict(models4,xx_test2)\n",
    "predict_low4_3=models_predict(models4,xx_test3)"
   ]
  },
  {
   "cell_type": "code",
   "execution_count": 27,
   "id": "567ff0f6-d746-4de7-9802-78a86160ffd5",
   "metadata": {},
   "outputs": [],
   "source": [
    "np.save('China_save/predict_low1_1.npy',predict_low1_1)\n",
    "np.save('China_save/predict_low1_2.npy',predict_low1_2)\n",
    "np.save('China_save/predict_low1_3.npy',predict_low1_3)\n",
    "# np.save('China_save/predict_low1_4.npy',predict_low1_4)\n",
    "\n",
    "np.save('China_save/predict_low2_1.npy',predict_low2_1)\n",
    "np.save('China_save/predict_low2_2.npy',predict_low2_2)\n",
    "np.save('China_save/predict_low2_3.npy',predict_low2_3)\n",
    "# np.save('China_save/predict_low2_4.npy',predict_low2_4)\n",
    "\n",
    "np.save('China_save/predict_low3_1.npy',predict_low3_1)\n",
    "np.save('China_save/predict_low3_2.npy',predict_low3_2)\n",
    "np.save('China_save/predict_low3_3.npy',predict_low3_3)\n",
    "# np.save('China_save/predict_low3_4.npy',predict_low3_4)\n",
    "\n",
    "np.save('China_save/predict_low4_1.npy',predict_low4_1)\n",
    "np.save('China_save/predict_low4_2.npy',predict_low4_2)\n",
    "np.save('China_save/predict_low4_3.npy',predict_low4_3)"
   ]
  },
  {
   "cell_type": "markdown",
   "id": "9909d7f9-8225-45ae-a757-fc9a47d7e38d",
   "metadata": {},
   "source": [
    "## Try the input policy of South Africa"
   ]
  },
  {
   "cell_type": "code",
   "execution_count": 28,
   "id": "79ea4018-ee1e-46f3-b28b-562e593be69f",
   "metadata": {},
   "outputs": [],
   "source": [
    "x_mean_sa=pd.read_csv('South_Africa_save/x_mean.csv')"
   ]
  },
  {
   "cell_type": "code",
   "execution_count": 33,
   "id": "1b673dbf-c930-47a7-9ae2-b343bbba633e",
   "metadata": {},
   "outputs": [],
   "source": [
    "x_mean_sa=x_mean_sa.drop(['Unnamed: 0'],axis=1)"
   ]
  },
  {
   "cell_type": "code",
   "execution_count": 43,
   "id": "282a389c-b390-494d-8149-353c39431896",
   "metadata": {},
   "outputs": [],
   "source": [
    "x_mean_sa=x_mean_sa.to_numpy().T"
   ]
  },
  {
   "cell_type": "code",
   "execution_count": 44,
   "id": "3563518f-8050-4f69-bec3-85ba3c509f0e",
   "metadata": {},
   "outputs": [
    {
     "name": "stderr",
     "output_type": "stream",
     "text": [
      "<ipython-input-4-0eb98b0e7396>:31: RuntimeWarning: invalid value encountered in true_divide\n",
      "  return predictions/len(models)\n"
     ]
    }
   ],
   "source": [
    "predict_sa1=models_predict(models1,x_mean_sa)\n",
    "predict_sa2=models_predict(models2,x_mean_sa)\n",
    "predict_sa3=models_predict(models3,x_mean_sa)\n",
    "predict_sa4=models_predict(models4,x_mean_sa)\n",
    "\n",
    "np.save('China_save/predict_sa1.npy',predict_sa1)\n",
    "np.save('China_save/predict_sa2.npy',predict_sa2)\n",
    "np.save('China_save/predict_sa3.npy',predict_sa3)\n",
    "np.save('China_save/predict_sa4.npy',predict_sa4)"
   ]
  },
  {
   "cell_type": "code",
   "execution_count": null,
   "id": "2973d294-0c8f-45bd-b063-e3cedeb50126",
   "metadata": {},
   "outputs": [],
   "source": []
  }
 ],
 "metadata": {
  "kernelspec": {
   "display_name": "Python 3",
   "language": "python",
   "name": "python3"
  },
  "language_info": {
   "codemirror_mode": {
    "name": "ipython",
    "version": 3
   },
   "file_extension": ".py",
   "mimetype": "text/x-python",
   "name": "python",
   "nbconvert_exporter": "python",
   "pygments_lexer": "ipython3",
   "version": "3.8.10"
  }
 },
 "nbformat": 4,
 "nbformat_minor": 5
}
