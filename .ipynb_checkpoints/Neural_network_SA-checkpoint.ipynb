{
 "cells": [
  {
   "cell_type": "code",
   "execution_count": 1,
   "id": "9e4fb138-20af-4060-99d5-abff16f1ee1f",
   "metadata": {},
   "outputs": [],
   "source": [
    "import numpy as np\n",
    "import pandas as pd\n",
    "from numpy import loadtxt\n",
    "from keras.models import Sequential\n",
    "from keras.layers import Dense\n",
    "from tqdm import tqdm\n",
    "import tensorflow as tf"
   ]
  },
  {
   "cell_type": "code",
   "execution_count": 2,
   "id": "55e16294-cc40-4375-93ce-52c95352c383",
   "metadata": {},
   "outputs": [],
   "source": [
    "x_train=pd.read_csv('South_Africa_save/x_train.csv')\n",
    "y_train=pd.read_csv('South_Africa_save/y_train.csv')"
   ]
  },
  {
   "cell_type": "code",
   "execution_count": 3,
   "id": "67776a75-63a4-49fb-af42-8872851c441d",
   "metadata": {},
   "outputs": [],
   "source": [
    "x_train=x_train.drop(['Unnamed: 0'],axis=1)\n",
    "y_train=y_train.drop(['Unnamed: 0'],axis=1)"
   ]
  },
  {
   "cell_type": "markdown",
   "id": "be4223ac-856c-4583-855c-b0fb28caa82f",
   "metadata": {},
   "source": [
    "# Test a few architectures"
   ]
  },
  {
   "cell_type": "code",
   "execution_count": 4,
   "id": "37cc49db-ba86-46e7-8180-1ad1ba703843",
   "metadata": {},
   "outputs": [],
   "source": [
    "tf.keras.backend.set_floatx('float64')\n",
    "def build_model1():\n",
    "    #15/8/2\n",
    "    # define the keras model\n",
    "    model = Sequential()\n",
    "    model.add(Dense(8, input_dim=15, activation='relu'))\n",
    "    model.add(Dense(2, activation='relu'))\n",
    "    # compile the keras model\n",
    "    model.compile(loss='binary_crossentropy', optimizer='adam', metrics=['accuracy'])\n",
    "    return model\n",
    "\n",
    "def train_models(build_model, num_ite=100):\n",
    "    models=[]\n",
    "    for i in tqdm(range(num_ite)):\n",
    "        model=build_model()\n",
    "        his=model.fit(x_train, y_train, epochs=150, batch_size=5, verbose=0)\n",
    "        pre=model.predict(x_train)\n",
    "        if np.all(pre > 0) and np.all(pre < 1):\n",
    "#             print(pre)\n",
    "            models.append(model)\n",
    "#         if hishis.history['loss'][-1] < 1:\n",
    "#             print('Loss:',hishis.history['loss'][-1])\n",
    "#             models.append(model)\n",
    "    return models\n",
    "\n",
    "def models_predict(models, x):\n",
    "    predictions=np.zeros((len(x),2))\n",
    "    for model in models:\n",
    "#         pre = model.predict(x)\n",
    "        predictions += model.predict(x)\n",
    "    return predictions/len(models)\n",
    "\n",
    "def train_model(build_model):\n",
    "    model=build_model()\n",
    "    his=model.fit(x_train, y_train, epochs=150, batch_size=5, verbose=0)\n",
    "    print('Loss:',hishis.history['loss'][-1])\n",
    "    return model\n",
    "\n",
    "def build_model2():\n",
    "    # 15/10/6/2\n",
    "    # define the keras model\n",
    "    model = Sequential()\n",
    "    model.add(Dense(10, input_dim=15, activation='relu'))\n",
    "    model.add(Dense(6, activation='relu'))\n",
    "    model.add(Dense(2, activation='relu'))\n",
    "    # compile the keras model\n",
    "    model.compile(loss='binary_crossentropy', optimizer='adam', metrics=['accuracy'])\n",
    "    return model\n",
    "\n",
    "def build_model3():\n",
    "    # 15/12/8/4/2\n",
    "    # define the keras model\n",
    "    model = Sequential()\n",
    "    model.add(Dense(12, input_dim=15, activation='relu'))\n",
    "    model.add(Dense(8, activation='relu'))\n",
    "    model.add(Dense(4, activation='relu'))\n",
    "    model.add(Dense(2, activation='relu'))\n",
    "    # compile the keras model\n",
    "    model.compile(loss='binary_crossentropy', optimizer='adam', metrics=['accuracy'])\n",
    "    return model"
   ]
  },
  {
   "cell_type": "code",
   "execution_count": 5,
   "id": "c058ec94-a9fe-4c14-991c-8a8f51375cba",
   "metadata": {},
   "outputs": [
    {
     "name": "stderr",
     "output_type": "stream",
     "text": [
      "100%|████████████████████████████████████████████████████████████████████████████████| 100/100 [08:00<00:00,  4.80s/it]\n",
      "100%|████████████████████████████████████████████████████████████████████████████████| 100/100 [09:00<00:00,  5.41s/it]\n",
      "100%|████████████████████████████████████████████████████████████████████████████████| 100/100 [09:35<00:00,  5.76s/it]\n"
     ]
    }
   ],
   "source": [
    "models1=train_models(build_model1)\n",
    "models2=train_models(build_model2)\n",
    "models3=train_models(build_model3)"
   ]
  },
  {
   "cell_type": "code",
   "execution_count": 6,
   "id": "7625a02d-eb98-4dbf-8360-666f7bd2abec",
   "metadata": {},
   "outputs": [
    {
     "data": {
      "text/plain": [
       "(62, 50, 59)"
      ]
     },
     "execution_count": 6,
     "metadata": {},
     "output_type": "execute_result"
    }
   ],
   "source": [
    "len(models1),len(models2),len(models3)"
   ]
  },
  {
   "cell_type": "code",
   "execution_count": 7,
   "id": "8df8caaa-ae01-40f5-bb1b-02f1f4ceb6a7",
   "metadata": {},
   "outputs": [],
   "source": [
    "pre1=models_predict(models1,x_train)\n",
    "pre2=models_predict(models2,x_train)\n",
    "pre3=models_predict(models3,x_train)"
   ]
  },
  {
   "cell_type": "code",
   "execution_count": 8,
   "id": "567a03d7-aacf-4f91-ab7e-5b1a55a4b9d0",
   "metadata": {},
   "outputs": [],
   "source": [
    "np.save('South_Africa_save/y_prediction1.npy',pre1)\n",
    "np.save('South_Africa_save/y_prediction2.npy',pre2)\n",
    "np.save('South_Africa_save/y_prediction3.npy',pre3)"
   ]
  },
  {
   "cell_type": "markdown",
   "id": "c6bc5117-380b-4599-846a-328d62f4afcc",
   "metadata": {},
   "source": [
    "# Find the average policy during each peak considered"
   ]
  },
  {
   "cell_type": "code",
   "execution_count": 10,
   "id": "389e8263-0b54-4011-b258-0436506768e4",
   "metadata": {},
   "outputs": [],
   "source": [
    "split=[151,151+116,151+116+15]\n",
    "x_train1=x_train[:split[0]]\n",
    "x_train2=x_train[split[0]:split[1]]\n",
    "x_train3=x_train[split[1]:]"
   ]
  },
  {
   "cell_type": "code",
   "execution_count": 17,
   "id": "9724b278-ca8c-440c-9721-f2e0429ee7d1",
   "metadata": {},
   "outputs": [],
   "source": [
    "x_mean1=x_train1.mean()\n",
    "x_mean2=x_train2.mean()\n",
    "x_mean3=x_train3.mean()"
   ]
  },
  {
   "cell_type": "code",
   "execution_count": 42,
   "id": "5a5b479e-3521-42d4-9ccd-d1dcec3bcaf5",
   "metadata": {},
   "outputs": [],
   "source": [
    "x_mean=pd.DataFrame({'x_mean1':x_mean1,'x_mean2':x_mean2,'x_mean3':x_mean3})"
   ]
  },
  {
   "cell_type": "code",
   "execution_count": 45,
   "id": "9f8d96bc-e337-4585-a604-9488d98a9fca",
   "metadata": {},
   "outputs": [],
   "source": [
    "policy_name=['testing_policy', 'contact_tracing', 'vaccination_policy',\n",
    "       'debt_relief', 'facial_coverings', 'income_support',\n",
    "       'restrictions_internal_movements', 'international_travel_controls',\n",
    "       'public_information_campaigns', 'cancel_public_events',\n",
    "       'restriction_gatherings', 'close_public_transport', 'school_closures',\n",
    "       'stay_home_requirements', 'workplace_closures']"
   ]
  },
  {
   "cell_type": "code",
   "execution_count": 46,
   "id": "61f44de9-1243-47cc-bae5-bdf02420c353",
   "metadata": {},
   "outputs": [],
   "source": [
    "x_mean.index=policy_name"
   ]
  },
  {
   "cell_type": "code",
   "execution_count": 48,
   "id": "b56d8102-7e95-4ab3-b538-bf6fa91ea0f4",
   "metadata": {},
   "outputs": [],
   "source": [
    "x_mean.to_csv('South_Africa_save/x_mean.csv')"
   ]
  },
  {
   "cell_type": "markdown",
   "id": "d606281b-264f-4791-84c2-90f015685785",
   "metadata": {},
   "source": [
    "Generate more inputs for prediction"
   ]
  },
  {
   "cell_type": "code",
   "execution_count": 50,
   "id": "0d19b4ea-d4af-4b0a-81ff-4efea97c1b8c",
   "metadata": {},
   "outputs": [],
   "source": [
    "def more_inputs(x_mean,num=1):\n",
    "    inputs=[]\n",
    "    for i in range(len(x_mean)):\n",
    "        x_p=x_mean.copy()\n",
    "        x_p[i] = num\n",
    "        inputs.append(x_p)\n",
    "    return inputs"
   ]
  },
  {
   "cell_type": "code",
   "execution_count": 20,
   "id": "f167e6ce-534b-40ec-af67-51954899f280",
   "metadata": {},
   "outputs": [],
   "source": [
    "x_test1=more_inputs(x_mean1)\n",
    "x_test2=more_inputs(x_mean2)\n",
    "x_test3=more_inputs(x_mean3)"
   ]
  },
  {
   "cell_type": "code",
   "execution_count": 32,
   "id": "1c0769e5-ab8c-4e71-8369-b86c2d52836a",
   "metadata": {},
   "outputs": [],
   "source": [
    "x_test1=pd.DataFrame(np.array(x_test1))\n",
    "x_test2=pd.DataFrame(np.array(x_test2))\n",
    "x_test3=pd.DataFrame(np.array(x_test3))"
   ]
  },
  {
   "cell_type": "markdown",
   "id": "bf696b02-447f-4d5b-9375-bd12ccfd2b02",
   "metadata": {},
   "source": [
    "Generate inputs with policy 0"
   ]
  },
  {
   "cell_type": "code",
   "execution_count": 51,
   "id": "4830e00b-717a-423b-b641-b67e08b35234",
   "metadata": {},
   "outputs": [],
   "source": [
    "xx_test1=more_inputs(x_mean1,num=0)\n",
    "xx_test2=more_inputs(x_mean2,num=0)\n",
    "xx_test3=more_inputs(x_mean3,num=0)\n",
    "\n",
    "xx_test1=pd.DataFrame(np.array(xx_test1))\n",
    "xx_test2=pd.DataFrame(np.array(xx_test2))\n",
    "xx_test3=pd.DataFrame(np.array(xx_test3))"
   ]
  },
  {
   "cell_type": "markdown",
   "id": "3096c364-9ac6-4405-8a01-b5c2fab623df",
   "metadata": {},
   "source": [
    "Predict the outcome after changing the policies."
   ]
  },
  {
   "cell_type": "code",
   "execution_count": 37,
   "id": "94759321-7e68-4751-93d2-bcc257d6b286",
   "metadata": {},
   "outputs": [],
   "source": [
    "predict1_1=models_predict(models1,x_test1)\n",
    "predict1_2=models_predict(models1,x_test2)\n",
    "predict1_3=models_predict(models1,x_test3)\n",
    "\n",
    "predict2_1=models_predict(models2,x_test1)\n",
    "predict2_2=models_predict(models2,x_test2)\n",
    "predict2_3=models_predict(models2,x_test3)\n",
    "\n",
    "predict3_1=models_predict(models3,x_test1)\n",
    "predict3_2=models_predict(models3,x_test2)\n",
    "predict3_3=models_predict(models3,x_test3)"
   ]
  },
  {
   "cell_type": "code",
   "execution_count": 38,
   "id": "1f1346ad-2383-49ad-9996-b97f6d55766e",
   "metadata": {},
   "outputs": [],
   "source": [
    "np.save('South_Africa_save/predict1_1.npy',predict1_1)\n",
    "np.save('South_Africa_save/predict1_2.npy',predict1_2)\n",
    "np.save('South_Africa_save/predict1_3.npy',predict1_3)\n",
    "\n",
    "np.save('South_Africa_save/predict2_1.npy',predict2_1)\n",
    "np.save('South_Africa_save/predict2_2.npy',predict2_2)\n",
    "np.save('South_Africa_save/predict2_3.npy',predict2_3)\n",
    "\n",
    "np.save('South_Africa_save/predict3_1.npy',predict3_1)\n",
    "np.save('South_Africa_save/predict3_2.npy',predict3_2)\n",
    "np.save('South_Africa_save/predict3_3.npy',predict3_3)"
   ]
  },
  {
   "cell_type": "code",
   "execution_count": null,
   "id": "a7ab796e-bf89-4d17-8166-a3f8c816b973",
   "metadata": {},
   "outputs": [
    {
     "name": "stderr",
     "output_type": "stream",
     "text": [
      "Exception ignored in: <function ScopedTFFunction.__del__ at 0x000001EBFEA53430>\n",
      "Traceback (most recent call last):\n",
      "  File \"C:\\ProgramData\\Anaconda3\\envs\\tf_gpu\\lib\\site-packages\\tensorflow\\python\\framework\\c_api_util.py\", line 96, in __del__\n",
      "    self.deleter(self.func)\n",
      "KeyboardInterrupt: \n",
      "Exception ignored in: <function ScopedTFFunction.__del__ at 0x000001EBFEA53430>\n",
      "Traceback (most recent call last):\n",
      "  File \"C:\\ProgramData\\Anaconda3\\envs\\tf_gpu\\lib\\site-packages\\tensorflow\\python\\framework\\c_api_util.py\", line 96, in __del__\n",
      "    self.deleter(self.func)\n",
      "KeyboardInterrupt: \n"
     ]
    }
   ],
   "source": [
    "predict_low1_1=models_predict(models1,xx_test1)\n",
    "predict_low1_2=models_predict(models1,xx_test2)\n",
    "predict_low1_3=models_predict(models1,xx_test3)\n",
    "\n",
    "predict_low2_1=models_predict(models2,xx_test1)\n",
    "predict_low2_2=models_predict(models2,xx_test2)\n",
    "predict_low2_3=models_predict(models2,xx_test3)\n",
    "\n",
    "predict_low3_1=models_predict(models3,xx_test1)\n",
    "predict_low3_2=models_predict(models3,xx_test2)\n",
    "predict_low3_3=models_predict(models3,xx_test3)"
   ]
  },
  {
   "cell_type": "code",
   "execution_count": null,
   "id": "567ff0f6-d746-4de7-9802-78a86160ffd5",
   "metadata": {},
   "outputs": [],
   "source": [
    "np.save('South_Africa_save/predict_low1_1.npy',predict_low1_1)\n",
    "np.save('South_Africa_save/predict_low1_2.npy',predict_low1_2)\n",
    "np.save('South_Africa_save/predict_low1_3.npy',predict_low1_3)\n",
    "\n",
    "np.save('South_Africa_save/predict_low2_1.npy',predict_low2_1)\n",
    "np.save('South_Africa_save/predict_low2_2.npy',predict_low2_2)\n",
    "np.save('South_Africa_save/predict_low2_3.npy',predict_low2_3)\n",
    "\n",
    "np.save('South_Africa_save/predict_low3_1.npy',predict_low3_1)\n",
    "np.save('South_Africa_save/predict_low3_2.npy',predict_low3_2)\n",
    "np.save('South_Africa_save/predict_low3_3.npy',predict_low3_3)"
   ]
  },
  {
   "cell_type": "code",
   "execution_count": null,
   "id": "c5c7d7b8-9f46-4809-9c30-b75eb8959ea3",
   "metadata": {},
   "outputs": [],
   "source": []
  }
 ],
 "metadata": {
  "kernelspec": {
   "display_name": "Python 3",
   "language": "python",
   "name": "python3"
  },
  "language_info": {
   "codemirror_mode": {
    "name": "ipython",
    "version": 3
   },
   "file_extension": ".py",
   "mimetype": "text/x-python",
   "name": "python",
   "nbconvert_exporter": "python",
   "pygments_lexer": "ipython3",
   "version": "3.8.10"
  }
 },
 "nbformat": 4,
 "nbformat_minor": 5
}
