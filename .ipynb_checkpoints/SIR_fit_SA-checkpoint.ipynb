{
 "cells": [
  {
   "cell_type": "code",
   "execution_count": 1,
   "id": "15ab6548-f0d3-473b-a50d-57b689c34802",
   "metadata": {},
   "outputs": [],
   "source": [
    "import pandas as pd\n",
    "import numpy as np\n",
    "import matplotlib.pyplot as plt\n",
    "from scipy.integrate import odeint\n",
    "from lmfit import minimize, Parameters, Parameter, report_fit\n",
    "from scipy.integrate import odeint\n",
    "from Functions import *\n",
    "from tqdm import tqdm"
   ]
  },
  {
   "cell_type": "markdown",
   "id": "6b07195a-fa34-4dda-b4bc-d20d0c28fcf9",
   "metadata": {},
   "source": [
    "# Import and prepare data"
   ]
  },
  {
   "cell_type": "code",
   "execution_count": 2,
   "id": "c9db9c0c-c8fc-443c-98c6-b8c14bff7a4e",
   "metadata": {},
   "outputs": [],
   "source": [
    "infected = pd.read_csv('South_Africa_save/South_Africa_infected.csv')\n",
    "removed = pd.read_csv('South_Africa_save/South_Africa_removed.csv')\n",
    "confirmed = pd.read_csv('South_Africa_save/South_Africa_confirmed.csv')"
   ]
  },
  {
   "cell_type": "code",
   "execution_count": 6,
   "id": "0640ed6c-d21e-44c9-a96f-9c1251f4342b",
   "metadata": {},
   "outputs": [],
   "source": [
    "it=infected.to_numpy()\n",
    "rt=removed.to_numpy()\n",
    "ct=confirmed.to_numpy()"
   ]
  },
  {
   "cell_type": "code",
   "execution_count": 7,
   "id": "011148ab-84a2-4e72-ae1b-2a430817fd29",
   "metadata": {},
   "outputs": [],
   "source": [
    "split=[60,313,473]\n",
    "\n",
    "i1=it[split[0]:split[1]]\n",
    "r1=rt[split[0]:split[1]]\n",
    "i2=it[split[1]:split[2]]\n",
    "r2=rt[split[1]:split[2]]\n",
    "i3=it[split[2]:]\n",
    "r3=it[split[2]:]\n",
    "\n",
    "N1=ct[split[1]]\n",
    "N2=ct[split[2]]\n",
    "N3=ct[-1]"
   ]
  },
  {
   "cell_type": "code",
   "execution_count": 69,
   "id": "f7e2b48f-5d99-412b-8eed-e3fbdf8aef33",
   "metadata": {},
   "outputs": [],
   "source": [
    "ii1=i1.reshape((i1.shape[0],))\n",
    "rr1=r1.reshape((r1.shape[0],))\n",
    "ii2=i2.reshape((i2.shape[0],))\n",
    "rr2=r2.reshape((r2.shape[0],))\n",
    "ii3=i3.reshape((i3.shape[0],))\n",
    "rr3=r3.reshape((r3.shape[0],))"
   ]
  },
  {
   "cell_type": "code",
   "execution_count": 70,
   "id": "d9befd64-65d1-4d70-aab9-4ed82fb9b04b",
   "metadata": {},
   "outputs": [],
   "source": [
    "N=58560000\n",
    "inf1=ii1/N\n",
    "rem1=rr1/N\n",
    "inf2=ii2/N\n",
    "rem2=rr2/N\n",
    "inf3=ii3/N\n",
    "rem3=rr3/N"
   ]
  },
  {
   "cell_type": "markdown",
   "id": "54c94f31-d8f9-499b-8a16-3fa4328a2760",
   "metadata": {},
   "source": [
    "# Rescale policies\n",
    "\n",
    "For different policies, the scales are different. See https://ourworldindata.org/policy-responses-covid"
   ]
  },
  {
   "cell_type": "code",
   "execution_count": 3,
   "id": "9f888e3d-6820-4a52-9945-c69c5a2b7862",
   "metadata": {},
   "outputs": [],
   "source": [
    "policy = pd.read_csv('South_Africa_save/South_Africa_policy_use.csv')"
   ]
  },
  {
   "cell_type": "code",
   "execution_count": 293,
   "id": "fd3190aa-1b7e-463b-ab70-68c1bcf98092",
   "metadata": {},
   "outputs": [
    {
     "data": {
      "text/plain": [
       "Index(['Day', 'testing_policy', 'contact_tracing', 'vaccination_policy',\n",
       "       'debt_relief', 'facial_coverings', 'income_support',\n",
       "       'restrictions_internal_movements', 'international_travel_controls',\n",
       "       'public_information_campaigns', 'cancel_public_events',\n",
       "       'restriction_gatherings', 'close_public_transport', 'school_closures',\n",
       "       'stay_home_requirements', 'workplace_closures'],\n",
       "      dtype='object')"
      ]
     },
     "execution_count": 293,
     "metadata": {},
     "output_type": "execute_result"
    }
   ],
   "source": [
    "policy.columns"
   ]
  },
  {
   "cell_type": "code",
   "execution_count": 254,
   "id": "f48e0aec-4371-4c53-b3e3-5a16dc5ac22c",
   "metadata": {},
   "outputs": [],
   "source": [
    "po1=policy.copy()"
   ]
  },
  {
   "cell_type": "code",
   "execution_count": 258,
   "id": "4dda5bf3-2e35-42d5-bb49-9d90a7c8dbcf",
   "metadata": {},
   "outputs": [],
   "source": [
    "po1['testing_policy']=policy['testing_policy']/3\n",
    "po1['contact_tracing']=policy['contact_tracing']/2\n",
    "po1['vaccination_policy']=policy['vaccination_policy']/5\n",
    "po1['debt_relief']=policy['debt_relief']/2\n",
    "po1['facial_coverings']=policy['facial_coverings']/4\n",
    "po1['income_support']=policy['income_support']/2\n",
    "po1['restrictions_internal_movements']=policy['restrictions_internal_movements']/2\n",
    "po1['international_travel_controls']=policy['international_travel_controls']/4\n",
    "po1['public_information_campaigns']=policy['public_information_campaigns']/2\n",
    "po1['cancel_public_events']=policy['cancel_public_events']/2\n",
    "po1['restriction_gatherings']=policy['restriction_gatherings']/4\n",
    "po1['close_public_transport']=policy['close_public_transport']/2\n",
    "po1['school_closures']=policy['school_closures']/3\n",
    "po1['stay_home_requirements']=policy['stay_home_requirements']/3\n",
    "po1['workplace_closures']=policy['workplace_closures']/3"
   ]
  },
  {
   "cell_type": "code",
   "execution_count": 260,
   "id": "2e17f211-f425-49b5-9649-c2fb8c413b61",
   "metadata": {},
   "outputs": [],
   "source": [
    "po2=po1.drop(['Day'],axis=1)"
   ]
  },
  {
   "cell_type": "code",
   "execution_count": 107,
   "id": "29a002ad-4300-4645-b279-8966c91008b7",
   "metadata": {},
   "outputs": [],
   "source": [
    "po2=po1.apply(lambda x:(x-np.min(x))/(np.max(x)-np.min(x)))"
   ]
  },
  {
   "cell_type": "code",
   "execution_count": 261,
   "id": "a0277332-6109-4324-9dc8-1582d2ecd354",
   "metadata": {},
   "outputs": [],
   "source": [
    "p1=po2[split[0]:split[1]]\n",
    "p2=po2[split[1]:split[2]]\n",
    "p3=po2[split[2]:]"
   ]
  },
  {
   "cell_type": "markdown",
   "id": "a3396094-428c-4c38-a343-138ecf0244c8",
   "metadata": {},
   "source": [
    "# Fit SIR models, and abtain all data points for neural network training"
   ]
  },
  {
   "cell_type": "code",
   "execution_count": 263,
   "id": "bf956444-d1a3-472f-a0ef-a2a5676d8df0",
   "metadata": {},
   "outputs": [],
   "source": [
    "# With in a peak, train from 30 days or s0, and get a data point for every day.\n",
    "def one_peak(inf,rem,po,start=20):\n",
    "    duration = inf.shape[0]\n",
    "    results=[]\n",
    "    x_train=[]\n",
    "    index=[]\n",
    "    for i in tqdm(range(start, duration)):\n",
    "        result=run(inf[:i],rem[:i])\n",
    "        reletive_error=[]\n",
    "        for name, param in result[2].params.items():\n",
    "            reletive_error.append(param.stderr/param.value)\n",
    "#         print(reletive_error)\n",
    "        if np.all(np.array(reletive_error[3:]) < 0.05):\n",
    "#             print(reletive_error)\n",
    "            results.append(result)\n",
    "            x_train.append(po[i-1:i].to_numpy()[0])\n",
    "            index.append(i)\n",
    "    return results, x_train, index"
   ]
  },
  {
   "cell_type": "code",
   "execution_count": 264,
   "id": "4e0725b1-dc32-457d-b955-ec13a39b85ee",
   "metadata": {},
   "outputs": [
    {
     "name": "stderr",
     "output_type": "stream",
     "text": [
      "100%|████████████████████████████████████████████████████████████████████████████████| 233/233 [00:16<00:00, 13.97it/s]\n",
      "100%|████████████████████████████████████████████████████████████████████████████████| 140/140 [00:04<00:00, 31.53it/s]\n",
      "100%|██████████████████████████████████████████████████████████████████████████████████| 64/64 [00:05<00:00, 11.51it/s]\n"
     ]
    }
   ],
   "source": [
    "results, x_train, index=one_peak(inf1,rem1,p1,start=20)\n",
    "results2, x_train2, index2=one_peak(inf2,rem2,p2,start=20)\n",
    "results3, x_train3, index3=one_peak(inf3,rem3,p3,start=20)"
   ]
  },
  {
   "cell_type": "code",
   "execution_count": 273,
   "id": "d9a3d359-d5ff-476f-83f7-9568681ce449",
   "metadata": {},
   "outputs": [
    {
     "data": {
      "text/plain": [
       "(151, 116, 15)"
      ]
     },
     "execution_count": 273,
     "metadata": {},
     "output_type": "execute_result"
    }
   ],
   "source": [
    "len(x_train),len(x_train2),len(x_train3)"
   ]
  },
  {
   "cell_type": "code",
   "execution_count": 291,
   "id": "43e73fd0-79c8-4a70-8114-f9d494475ecb",
   "metadata": {},
   "outputs": [
    {
     "data": {
      "image/png": "[encoded data removed]",
      "text/plain": [
       "<Figure size 432x288 with 1 Axes>"
      ]
     },
     "metadata": {
      "needs_background": "light"
     },
     "output_type": "display_data"
    }
   ],
   "source": [
    "plot_fit(results[-1],inf1[:index[-1]])"
   ]
  },
  {
   "cell_type": "markdown",
   "id": "fdde2136-e196-499b-b252-a389e23072c1",
   "metadata": {},
   "source": [
    "# Prepare data for neural network"
   ]
  },
  {
   "cell_type": "code",
   "execution_count": 267,
   "id": "1ff4e01e-e8bb-4192-b3bd-52a535b5c982",
   "metadata": {},
   "outputs": [],
   "source": [
    "df_x1=pd.DataFrame(x_train)\n",
    "df_x2=pd.DataFrame(x_train2)\n",
    "df_x3=pd.DataFrame(x_train3)"
   ]
  },
  {
   "cell_type": "code",
   "execution_count": 268,
   "id": "a13fa32d-fd2d-4117-ab8a-38fe17e679c2",
   "metadata": {},
   "outputs": [],
   "source": [
    "df_x=df_x1.append(df_x2)\n",
    "df_x=df_x.append(df_x3)"
   ]
  },
  {
   "cell_type": "code",
   "execution_count": 269,
   "id": "50f4b751-9e41-42c1-b2a3-c180f5be60fe",
   "metadata": {},
   "outputs": [],
   "source": [
    "df_x.to_csv('South_Africa_save/x_train.csv')"
   ]
  },
  {
   "cell_type": "code",
   "execution_count": 270,
   "id": "445f5656-fc73-4419-b328-fb9144a4c523",
   "metadata": {},
   "outputs": [],
   "source": [
    "def get_pa(results):\n",
    "    beta=[]\n",
    "    gamma=[]\n",
    "    for result in results:\n",
    "        beta.append(result[2].params['beta'].value)\n",
    "        gamma.append(result[2].params['gamma'].value)\n",
    "    return beta, gamma"
   ]
  },
  {
   "cell_type": "code",
   "execution_count": 271,
   "id": "050af7df-0e34-4ed7-8da3-6117375155d3",
   "metadata": {},
   "outputs": [],
   "source": [
    "beta1, gamma1 = get_pa(results)\n",
    "beta2, gamma2 = get_pa(results2)\n",
    "beta3, gamma3 = get_pa(results3)\n",
    "df_y1=pd.DataFrame({'beta':beta1,'gamma':gamma1})\n",
    "df_y2=pd.DataFrame({'beta':beta2,'gamma':gamma2})\n",
    "df_y3=pd.DataFrame({'beta':beta3,'gamma':gamma3})\n",
    "df_y=df_y1.append(df_y2)\n",
    "df_y=df_y.append(df_y3)"
   ]
  },
  {
   "cell_type": "code",
   "execution_count": 272,
   "id": "cf8fcb2d-a030-4a70-884e-5dbdfe60cf1f",
   "metadata": {},
   "outputs": [],
   "source": [
    "df_y.to_csv('South_Africa_save/y_train.csv')"
   ]
  },
  {
   "cell_type": "code",
   "execution_count": 279,
   "id": "8ec0dbd9-3478-407f-9a04-b8dc63b8f649",
   "metadata": {},
   "outputs": [],
   "source": [
    "index=np.array(index)\n",
    "index2=np.array(index2)\n",
    "index3=np.array(index3)"
   ]
  },
  {
   "cell_type": "code",
   "execution_count": 280,
   "id": "d0313445-5792-4d17-8da1-5f4f298791a8",
   "metadata": {},
   "outputs": [],
   "source": [
    "np.save('South_Africa_save/fit_index1.npy',index)\n",
    "np.save('South_Africa_save/fit_index2.npy',index2)\n",
    "np.save('South_Africa_save/fit_index3.npy',index3)"
   ]
  },
  {
   "cell_type": "code",
   "execution_count": null,
   "id": "f15dda9f-980b-47ad-b682-a7bab8104a79",
   "metadata": {},
   "outputs": [],
   "source": []
  }
 ],
 "metadata": {
  "kernelspec": {
   "display_name": "Python 3",
   "language": "python",
   "name": "python3"
  },
  "language_info": {
   "codemirror_mode": {
    "name": "ipython",
    "version": 3
   },
   "file_extension": ".py",
   "mimetype": "text/x-python",
   "name": "python",
   "nbconvert_exporter": "python",
   "pygments_lexer": "ipython3",
   "version": "3.8.10"
  }
 },
 "nbformat": 4,
 "nbformat_minor": 5
}
