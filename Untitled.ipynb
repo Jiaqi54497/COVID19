{
 "cells": [
  {
   "cell_type": "code",
   "execution_count": 4,
   "id": "37fb3d98-d92c-4b0a-b746-29e03222aecd",
   "metadata": {},
   "outputs": [],
   "source": [
    "import matplotlib.pyplot as plt\n",
    "import random\n",
    "import matplotlib\n",
    "import numpy as np"
   ]
  },
  {
   "cell_type": "code",
   "execution_count": 2,
   "id": "ad292e2f-15cc-4fe1-a1e4-a1e37908e237",
   "metadata": {},
   "outputs": [],
   "source": [
    "policy_name=['testing_policy', 'contact_tracing', 'vaccination_policy',\n",
    "       'debt_relief', 'facial_coverings', 'income_support',\n",
    "       'restrictions_internal_movements', 'international_travel_controls',\n",
    "       'public_information_campaigns', 'cancel_public_events',\n",
    "       'restriction_gatherings', 'close_public_transport', 'school_closures',\n",
    "       'stay_home_requirements', 'workplace_closures']\n",
    "policy_name.reverse()"
   ]
  },
  {
   "cell_type": "code",
   "execution_count": 25,
   "id": "384ce1d2-6438-4811-a1d6-51621fff8466",
   "metadata": {},
   "outputs": [],
   "source": [
    "policy=['international_travel_controls','restrictions_internal_movements','testing_policy','debt_relief',\n",
    "        'contact_tracing','public_information_campaigns','income_support','stay_home_requirements',\n",
    "        'cancel_public_events','restriction_gatherings','workplace_closures','school_closures',\n",
    "        'close_public_transport','facial_coverings','vaccination_policy']\n",
    "policy.reverse()\n",
    "data=[1,0.95,0.8,0.5,0.45,0.2,0.2,0.07,0.06,0.06,0.03,-0.1,-0.12,-0.45,-0.65]\n",
    "data.reverse()"
   ]
  },
  {
   "cell_type": "code",
   "execution_count": 35,
   "id": "d35c2a9e-ecfc-4ff7-b641-ec7ad633390e",
   "metadata": {},
   "outputs": [
    {
     "data": {
      "text/plain": [
       "([], [])"
      ]
     },
     "execution_count": 35,
     "metadata": {},
     "output_type": "execute_result"
    },
    {
     "data": {
      "image/png": "[encoded data removed]",
      "text/plain": [
       "<Figure size 432x288 with 1 Axes>"
      ]
     },
     "metadata": {
      "needs_background": "light"
     },
     "output_type": "display_data"
    }
   ],
   "source": [
    "fig, ax = plt.subplots()\n",
    "colors=['limegreen','limegreen','limegreen','greenyellow','greenyellow','palegreen','palegreen',\n",
    "        'khaki','khaki','khaki','khaki','sandybrown','sandybrown','sandybrown','sandybrown']\n",
    "colors.reverse()\n",
    "b = ax.barh(range(len(policy)),data, color=colors)\n",
    "\n",
    "# for rect in b:\n",
    "#     w = rect.get_width()\n",
    "#     ax.text(w, rect.get_y() + rect.get_height()/2, '%d' % int(w))\n",
    "ax.set_yticks(range(len(policy)))\n",
    "ax.set_yticklabels(policy)\n",
    "plt.xticks(())"
   ]
  },
  {
   "cell_type": "code",
   "execution_count": 9,
   "id": "d2d1d600-ffcb-48ce-aa31-c3be7a5a78db",
   "metadata": {},
   "outputs": [],
   "source": [
    "y_predict3=np.load('China_save/y_prediction3.npy')\n",
    "predict3_1=np.load('China_save/predict3_1.npy')\n",
    "predict3_2=np.load('China_save/predict3_2.npy')\n",
    "predict3_3=np.load('China_save/predict3_3.npy')"
   ]
  },
  {
   "cell_type": "code",
   "execution_count": 15,
   "id": "c9ea6b20-f238-4119-8644-bd40bc8353bd",
   "metadata": {},
   "outputs": [
    {
     "data": {
      "text/plain": [
       "array([0.34931844, 0.084146  ])"
      ]
     },
     "execution_count": 15,
     "metadata": {},
     "output_type": "execute_result"
    }
   ],
   "source": [
    "y_predict3[0]"
   ]
  },
  {
   "cell_type": "code",
   "execution_count": 13,
   "id": "0ce381da-fe7f-4266-aa5b-96c674d13d3c",
   "metadata": {},
   "outputs": [
    {
     "data": {
      "text/plain": [
       "array([[0.39661658, 0.1658653 ],\n",
       "       [0.35633286, 0.09526558],\n",
       "       [0.30417841, 0.06860209],\n",
       "       [0.43472769, 0.25562994],\n",
       "       [0.34589645, 0.08311055],\n",
       "       [0.50995859, 0.33095386],\n",
       "       [0.35667761, 0.09558432],\n",
       "       [0.44743823, 0.2460253 ],\n",
       "       [0.35633286, 0.09526558],\n",
       "       [0.35633286, 0.09526558],\n",
       "       [0.35633286, 0.09526558],\n",
       "       [0.35668815, 0.09500779],\n",
       "       [0.35591866, 0.09343343],\n",
       "       [0.3575287 , 0.09569418],\n",
       "       [0.35865933, 0.09576031]])"
      ]
     },
     "execution_count": 13,
     "metadata": {},
     "output_type": "execute_result"
    }
   ],
   "source": [
    "predict3_1"
   ]
  },
  {
   "cell_type": "code",
   "execution_count": null,
   "id": "aadae734-1ed7-467a-8fca-a55d90456791",
   "metadata": {},
   "outputs": [],
   "source": []
  }
 ],
 "metadata": {
  "kernelspec": {
   "display_name": "Python 3",
   "language": "python",
   "name": "python3"
  },
  "language_info": {
   "codemirror_mode": {
    "name": "ipython",
    "version": 3
   },
   "file_extension": ".py",
   "mimetype": "text/x-python",
   "name": "python",
   "nbconvert_exporter": "python",
   "pygments_lexer": "ipython3",
   "version": "3.8.10"
  }
 },
 "nbformat": 4,
 "nbformat_minor": 5
}
